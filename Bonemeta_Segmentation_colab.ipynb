{
  "cells": [
    {
      "cell_type": "markdown",
      "metadata": {
        "id": "view-in-github",
        "colab_type": "text"
      },
      "source": [
        "<a href=\"https://colab.research.google.com/github/mschoi12/3DUnetCNN/blob/master/Bonemeta_Segmentation_colab.ipynb\" target=\"_parent\"><img src=\"https://colab.research.google.com/assets/colab-badge.svg\" alt=\"Open In Colab\"/></a>"
      ]
    },
    {
      "cell_type": "code",
      "source": [
        "from google.colab import drive\n",
        "drive.mount('/content/drive')"
      ],
      "metadata": {
        "colab": {
          "base_uri": "https://localhost:8080/"
        },
        "id": "FXHsfq1BL_kr",
        "outputId": "d0d83ba4-2b7d-494c-cc1f-06bc4f3c27e7"
      },
      "execution_count": 18,
      "outputs": [
        {
          "output_type": "stream",
          "name": "stdout",
          "text": [
            "Drive already mounted at /content/drive; to attempt to forcibly remount, call drive.mount(\"/content/drive\", force_remount=True).\n"
          ]
        }
      ]
    },
    {
      "cell_type": "markdown",
      "metadata": {
        "id": "Y_2VQKJrLb9l"
      },
      "source": [
        "## Module import"
      ]
    },
    {
      "cell_type": "code",
      "execution_count": 19,
      "metadata": {
        "id": "IxiOjryaLb9p"
      },
      "outputs": [],
      "source": [
        "import os\n",
        "import numpy as np # linear algebra\n",
        "import pandas as pd # data processing, CSV file I/O (e.g. pd.read_csv)\n",
        "import cv2\n",
        "from glob import glob\n",
        "from tqdm import tqdm\n",
        "\n",
        "# Input data files are available in the read-only \"../input/\" directory\n",
        "# For example, running this (by clicking run or pressing Shift+Enter) will list all files under the input directory\n",
        "\n",
        "from PIL import Image\n",
        "\n",
        "import tensorflow as tf\n",
        "from tensorflow.keras import Input, Model\n",
        "from tensorflow.keras.layers import Conv2D, MaxPooling2D, Conv2DTranspose, Cropping2D, concatenate"
      ]
    },
    {
      "cell_type": "code",
      "execution_count": 20,
      "metadata": {
        "id": "OG4RmKY7Lb9r"
      },
      "outputs": [],
      "source": [
        "from tensorflow.keras.utils import CustomObjectScope\n",
        "from tensorflow.keras import backend as K\n",
        "\n",
        "from sklearn.model_selection import train_test_split\n",
        "from sklearn.utils import shuffle\n",
        "from sklearn.metrics import accuracy_score, f1_score, jaccard_score, precision_score, recall_score"
      ]
    },
    {
      "cell_type": "markdown",
      "metadata": {
        "id": "CGP5zggFLb9s"
      },
      "source": [
        "## Data Paths : images, labels"
      ]
    },
    {
      "cell_type": "code",
      "execution_count": 21,
      "metadata": {
        "id": "GFOQh7euLb9t"
      },
      "outputs": [],
      "source": [
        "image_dir = '/content/drive/MyDrive/Dataset/sample_data/image/'\n",
        "label_dir = '/content/drive/MyDrive/Dataset/sample_data/label/'"
      ]
    },
    {
      "cell_type": "code",
      "execution_count": 22,
      "metadata": {
        "colab": {
          "base_uri": "https://localhost:8080/"
        },
        "id": "Ol6QpJ1YLb9u",
        "outputId": "1fe599c8-3e76-43be-950b-f10e562f1c61"
      },
      "outputs": [
        {
          "output_type": "stream",
          "name": "stdout",
          "text": [
            "number of total images : 255\n"
          ]
        }
      ],
      "source": [
        "image_paths = []\n",
        "for dirname, _, filenames in os.walk(image_dir):\n",
        "    for filename in filenames:\n",
        "        image_path = os.path.join(dirname, filename)\n",
        "        image_paths.append(image_path)\n",
        "print('number of total images :', len(image_paths))"
      ]
    },
    {
      "cell_type": "code",
      "execution_count": 23,
      "metadata": {
        "colab": {
          "base_uri": "https://localhost:8080/"
        },
        "id": "NooTHOMaLb9v",
        "outputId": "7464c6f1-c8f7-416a-d2d9-8dc8aea859a9"
      },
      "outputs": [
        {
          "output_type": "stream",
          "name": "stdout",
          "text": [
            "number of total labels : 255\n"
          ]
        }
      ],
      "source": [
        "label_paths = []\n",
        "for dirname, _, filenames in os.walk(label_dir):\n",
        "    for filename in filenames:\n",
        "        label_path = os.path.join(dirname, filename)\n",
        "        label_paths.append(label_path)\n",
        "print('number of total labels :', len(label_paths))"
      ]
    },
    {
      "cell_type": "markdown",
      "metadata": {
        "id": "WBfwMh-oLb9x"
      },
      "source": [
        "## Data split : train, val sets"
      ]
    },
    {
      "cell_type": "code",
      "execution_count": 24,
      "metadata": {
        "id": "CTOOhrWHLb9x"
      },
      "outputs": [],
      "source": [
        "def load_data(path,test_size=0.2):\n",
        "    \n",
        "    train_x, valid_x = train_test_split(image_paths, test_size=test_size, random_state=42)\n",
        "    train_y, valid_y = train_test_split(label_paths, test_size=test_size, random_state=42)\n",
        "\n",
        "    train_x, test_x = train_test_split(train_x, test_size=test_size, random_state=42)\n",
        "    train_y, test_y = train_test_split(train_y, test_size=test_size, random_state=42)\n",
        "\n",
        "    return (train_x, train_y), (valid_x, valid_y), (test_x, test_y)"
      ]
    },
    {
      "cell_type": "code",
      "execution_count": 25,
      "metadata": {
        "colab": {
          "base_uri": "https://localhost:8080/"
        },
        "id": "fnKMRRRRLb9y",
        "outputId": "c234d22e-51cd-45d5-ed47-b84594ca3957"
      },
      "outputs": [
        {
          "output_type": "stream",
          "name": "stdout",
          "text": [
            "Dataset: Train: 163 - Valid: 51 - Test: 41\n"
          ]
        }
      ],
      "source": [
        "(train_x, train_y), (valid_x, valid_y), (test_x, test_y) = load_data(image_paths)\n",
        "print(f\"Dataset: Train: {len(train_x)} - Valid: {len(valid_x)} - Test: {len(test_x)}\")"
      ]
    },
    {
      "cell_type": "markdown",
      "metadata": {
        "id": "GvYhU2vfLb9z"
      },
      "source": [
        "## Data preparation"
      ]
    },
    {
      "cell_type": "code",
      "execution_count": 26,
      "metadata": {
        "id": "qLZeKO4OLb90"
      },
      "outputs": [],
      "source": [
        "H = 256\n",
        "W = 256\n",
        "\n",
        "shape = (256, 256, 1)\n",
        "num_classes = 2\n",
        "lr = 1e-4\n",
        "batch_size = 8\n",
        "epochs = 5"
      ]
    },
    {
      "cell_type": "code",
      "execution_count": 27,
      "metadata": {
        "id": "O8CDuufnLb90"
      },
      "outputs": [],
      "source": [
        "def read_image(x):\n",
        "    x = cv2.imread(x, cv2.IMREAD_COLOR)\n",
        "    x = cv2.resize(x, (W, H))\n",
        "    x = x / 255.0\n",
        "    x = x.astype(np.float32)\n",
        "    return x\n",
        "\n",
        "\n",
        "def read_mask(x):\n",
        "    x = cv2.imread(x, cv2.IMREAD_GRAYSCALE)\n",
        "    x = cv2.resize(x, (W, H))\n",
        "    x = x - 1\n",
        "    x = x.astype(np.int32)\n",
        "    return x\n",
        "\n",
        "\n",
        "def tf_parse(x, y):\n",
        "    def _parse(x, y):\n",
        "        x = x.decode()\n",
        "        y = y.decode()\n",
        "        x = read_image(x)\n",
        "        y = read_mask(y)\n",
        "        return x, y\n",
        "\n",
        "    x, y = tf.numpy_function(_parse, [x, y], [tf.float32, tf.int32])\n",
        "    y = tf.one_hot(y, 3, dtype=tf.int32)\n",
        "    x.set_shape([H, W, 3])\n",
        "    y.set_shape([H, W,3])\n",
        "    return x, y\n",
        "\n",
        "\n",
        "# In[8]:\n",
        "\n",
        "\n",
        "def tf_dataset(X, Y, batch):\n",
        "    dataset = tf.data.Dataset.from_tensor_slices((X, Y))\n",
        "    dataset = dataset.shuffle(buffer_size=5000)\n",
        "    dataset = dataset.map(tf_parse)\n",
        "    dataset = dataset.batch(batch)\n",
        "    dataset = dataset.repeat()\n",
        "    dataset = dataset.prefetch(2)\n",
        "    return dataset"
      ]
    },
    {
      "cell_type": "code",
      "execution_count": 28,
      "metadata": {
        "colab": {
          "base_uri": "https://localhost:8080/"
        },
        "id": "MxYd4ErELb91",
        "outputId": "b625b0a9-bf2b-4cd4-ac29-05aff5bb5e80"
      },
      "outputs": [
        {
          "output_type": "execute_result",
          "data": {
            "text/plain": [
              "(20, 6)"
            ]
          },
          "metadata": {},
          "execution_count": 28
        }
      ],
      "source": [
        "train_dataset = tf_dataset(train_x, train_y, batch_size)\n",
        "valid_dataset = tf_dataset(valid_x, valid_y, batch_size)\n",
        "\n",
        "train_steps = len(train_x)//batch_size\n",
        "valid_steps = len(valid_x)//batch_size\n",
        "(train_steps, valid_steps)"
      ]
    },
    {
      "cell_type": "markdown",
      "metadata": {
        "id": "itq7Qo-NLb92"
      },
      "source": [
        "## Model Building"
      ]
    },
    {
      "cell_type": "code",
      "execution_count": 29,
      "metadata": {
        "id": "Z-TlSPeALb92"
      },
      "outputs": [],
      "source": [
        "from tensorflow.keras.layers import Input, Conv2D, BatchNormalization, Activation, MaxPool2D, UpSampling2D, Concatenate\n",
        "from tensorflow.keras.models import Model\n",
        "from tensorflow.keras.callbacks import ModelCheckpoint, ReduceLROnPlateau, EarlyStopping\n",
        "from tensorflow.keras.applications import VGG19"
      ]
    },
    {
      "cell_type": "code",
      "execution_count": 30,
      "metadata": {
        "id": "taZOmvqhLb93"
      },
      "outputs": [],
      "source": [
        "def build_unet(shape, num_classes):\n",
        "    inputs = Input(shape)\n",
        "\n",
        "    \"\"\" Encoder \"\"\"\n",
        "\n",
        "    # 1\n",
        "    cont1_1 = Conv2D(64, 3, padding='same',\n",
        "                     activation='relu', kernel_initializer='he_normal', name='cont1_1')(inputs)  # 570, 570, 64\n",
        "    cont1_2 = Conv2D(64, 3, padding='same',\n",
        "                     activation='relu', kernel_initializer='he_normal', name='cont1_2')(cont1_1)  # 568, 568, 64\n",
        "\n",
        "    # 2\n",
        "    cont2_dwn = MaxPooling2D((2, 2), strides=2, name='cont2_dwn')(cont1_2)  # down-sampling; 284, 284, 64; 124\n",
        "    cont2_1 = Conv2D(128, 3, padding='same',\n",
        "                     activation='relu', kernel_initializer='he_normal', name='cont2_1')(cont2_dwn)  # 282, 282, 128\n",
        "    cont2_2 = Conv2D(128, 3, padding='same',\n",
        "                     activation='relu', kernel_initializer='he_normal', name='cont2_2')(cont2_1)  # 280, 280, 128\n",
        "\n",
        "    # 3\n",
        "    cont3_dwn = MaxPooling2D((2, 2), strides=2, name='cont3_dwn')(cont2_2)  # down-sampling; 140, 140, 128; 60\n",
        "    cont3_1 = Conv2D(256, 3, padding='same',\n",
        "                     activation='relu', kernel_initializer='he_normal', name='cont3_1')(cont3_dwn)  # 138, 138, 256\n",
        "    cont3_2 = Conv2D(256, 3, padding='same',\n",
        "                     activation='relu', kernel_initializer='he_normal', name='cont3_2')(cont3_1)  # 136, 136, 256\n",
        "\n",
        "    \"\"\" Bridge \"\"\"\n",
        "    cont4_dwn = MaxPooling2D((2, 2), strides=2, name='cont4_dwn')(cont3_2)\n",
        "    cont4_1 = Conv2D(512, 3, padding='same',\n",
        "                     activation='relu', kernel_initializer='he_normal', name='cont4_1')(cont4_dwn)  # 512\n",
        "    cont4_2 = Conv2D(512, 3, padding='same',\n",
        "                     activation='relu', kernel_initializer='he_normal', name='cont4_2')(cont4_1)  # 512\n",
        "    expn4_up = Conv2DTranspose(256, 2, strides=2, padding='same',\n",
        "                               activation='relu', kernel_initializer='he_normal', name='expn4_up')(cont4_2)  # 256\n",
        "\n",
        "    \"\"\" Decoder \"\"\"\n",
        "    expn3_concat = concatenate([expn4_up, cont3_2], axis=-1, name='expn3_concat')  # 512\n",
        "    expn3_1 = Conv2D(256, 3, padding='same',\n",
        "                     activation='relu', kernel_initializer='he_normal', name='expn3_1')(expn3_concat)  # 256\n",
        "    expn3_2 = Conv2D(256, 3, padding='same',\n",
        "                     activation='relu', kernel_initializer='he_normal', name='expn3_2')(expn3_1)  # 256\n",
        "\n",
        "    expn3_up = Conv2DTranspose(128, 2, strides=2, padding='same',\n",
        "                               activation='relu', kernel_initializer='he_normal', name='expn3_up')(expn3_2)  # 128\n",
        "\n",
        "    # 2\n",
        "    expn2_concat = concatenate([expn3_up, cont2_2], axis=-1, name='expn2_concat')  # 256\n",
        "    expn2_1 = Conv2D(128, 3, padding='same',\n",
        "                     activation='relu', kernel_initializer='he_normal', name='expn2_1')(expn2_concat)  # 128\n",
        "    expn2_2 = Conv2D(128, 3, padding='same',\n",
        "                     activation='relu', kernel_initializer='he_normal', name='expn2_2')(expn2_1)  # 128\n",
        "\n",
        "    expn2_up = Conv2DTranspose(64, 2, strides=2, padding='same',\n",
        "                               activation='relu', kernel_initializer='he_normal', name='expn2_up')(expn2_2)  # 64\n",
        "\n",
        "    # 1\n",
        "    expn1_concat = concatenate([expn2_up, cont1_2], axis=-1, name='expn1_concat')\n",
        "    expn1_1 = Conv2D(64, 3, padding='same',\n",
        "                     activation='relu', kernel_initializer='he_normal', name='expn1_1')(expn1_concat)\n",
        "    expn1_2 = Conv2D(64, 3, padding='same',\n",
        "                     activation='relu', kernel_initializer='he_normal', name='expn1_2')(expn1_1)\n",
        "\n",
        "\n",
        "\n",
        "    \"\"\" Output layer \"\"\"\n",
        "\n",
        "    output_tensor = Conv2D(3, 1, padding='same', activation='softmax', name='output_tensor')(expn1_2)\n",
        "    return Model(inputs, output_tensor)"
      ]
    },
    {
      "cell_type": "markdown",
      "metadata": {
        "id": "vi8ONWHsLb93"
      },
      "source": [
        "## Metrics"
      ]
    },
    {
      "cell_type": "code",
      "execution_count": 31,
      "metadata": {
        "id": "tfFRKZKTLb94"
      },
      "outputs": [],
      "source": [
        "def iou(y_true, y_pred):\n",
        "    def f(y_true, y_pred):\n",
        "        intersection = (y_true * y_pred).sum()\n",
        "        union = y_true.sum() + y_pred.sum() - intersection\n",
        "        x = (intersection + 1e-15) / (union + 1e-15)\n",
        "        x = x.astype(np.float32)\n",
        "        return x\n",
        "    return tf.numpy_function(f, [y_true, y_pred], tf.float32)\n",
        "\n",
        "\n",
        "# In[18]:\n",
        "\n",
        "\n",
        "smooth = 1e-15\n",
        "def dice_coef(y_true, y_pred):\n",
        "    y_true = tf.keras.layers.Flatten()(y_true)\n",
        "    y_pred = tf.keras.layers.Flatten()(y_pred)\n",
        "    intersection = tf.reduce_sum(y_true * y_pred)\n",
        "    return (2. * intersection + smooth) / (tf.reduce_sum(y_true) + tf.reduce_sum(y_pred) + smooth)\n",
        "\n",
        "\n",
        "# In[19]:\n",
        "\n",
        "\n",
        "def dice_loss(y_true, y_pred):\n",
        "    return 1.0 - dice_coef(y_true, y_pred)\n",
        "\n",
        "from tensorflow.keras.metrics import MeanIoU\n",
        "n_classes = 3\n",
        "IOU_keras = MeanIoU(num_classes=n_classes)"
      ]
    },
    {
      "cell_type": "code",
      "execution_count": 50,
      "metadata": {
        "id": "Jq_mOq9lLb94"
      },
      "outputs": [],
      "source": [
        "import shutil\n",
        "#shutil.os.mkdir(image_dir + \"result\")"
      ]
    },
    {
      "cell_type": "markdown",
      "metadata": {
        "id": "SNqxRFAyLb95"
      },
      "source": [
        "## Model setting"
      ]
    },
    {
      "cell_type": "code",
      "execution_count": 38,
      "metadata": {
        "colab": {
          "base_uri": "https://localhost:8080/"
        },
        "id": "lsGEAc2qLb95",
        "outputId": "138eb5cc-fcae-4535-e98f-910fc11c289f"
      },
      "outputs": [
        {
          "output_type": "stream",
          "name": "stdout",
          "text": [
            "Model: \"model_2\"\n",
            "__________________________________________________________________________________________________\n",
            " Layer (type)                   Output Shape         Param #     Connected to                     \n",
            "==================================================================================================\n",
            " input_3 (InputLayer)           [(None, 256, 256, 3  0           []                               \n",
            "                                )]                                                                \n",
            "                                                                                                  \n",
            " cont1_1 (Conv2D)               (None, 256, 256, 64  1792        ['input_3[0][0]']                \n",
            "                                )                                                                 \n",
            "                                                                                                  \n",
            " cont1_2 (Conv2D)               (None, 256, 256, 64  36928       ['cont1_1[0][0]']                \n",
            "                                )                                                                 \n",
            "                                                                                                  \n",
            " cont2_dwn (MaxPooling2D)       (None, 128, 128, 64  0           ['cont1_2[0][0]']                \n",
            "                                )                                                                 \n",
            "                                                                                                  \n",
            " cont2_1 (Conv2D)               (None, 128, 128, 12  73856       ['cont2_dwn[0][0]']              \n",
            "                                8)                                                                \n",
            "                                                                                                  \n",
            " cont2_2 (Conv2D)               (None, 128, 128, 12  147584      ['cont2_1[0][0]']                \n",
            "                                8)                                                                \n",
            "                                                                                                  \n",
            " cont3_dwn (MaxPooling2D)       (None, 64, 64, 128)  0           ['cont2_2[0][0]']                \n",
            "                                                                                                  \n",
            " cont3_1 (Conv2D)               (None, 64, 64, 256)  295168      ['cont3_dwn[0][0]']              \n",
            "                                                                                                  \n",
            " cont3_2 (Conv2D)               (None, 64, 64, 256)  590080      ['cont3_1[0][0]']                \n",
            "                                                                                                  \n",
            " cont4_dwn (MaxPooling2D)       (None, 32, 32, 256)  0           ['cont3_2[0][0]']                \n",
            "                                                                                                  \n",
            " cont4_1 (Conv2D)               (None, 32, 32, 512)  1180160     ['cont4_dwn[0][0]']              \n",
            "                                                                                                  \n",
            " cont4_2 (Conv2D)               (None, 32, 32, 512)  2359808     ['cont4_1[0][0]']                \n",
            "                                                                                                  \n",
            " expn4_up (Conv2DTranspose)     (None, 64, 64, 256)  524544      ['cont4_2[0][0]']                \n",
            "                                                                                                  \n",
            " expn3_concat (Concatenate)     (None, 64, 64, 512)  0           ['expn4_up[0][0]',               \n",
            "                                                                  'cont3_2[0][0]']                \n",
            "                                                                                                  \n",
            " expn3_1 (Conv2D)               (None, 64, 64, 256)  1179904     ['expn3_concat[0][0]']           \n",
            "                                                                                                  \n",
            " expn3_2 (Conv2D)               (None, 64, 64, 256)  590080      ['expn3_1[0][0]']                \n",
            "                                                                                                  \n",
            " expn3_up (Conv2DTranspose)     (None, 128, 128, 12  131200      ['expn3_2[0][0]']                \n",
            "                                8)                                                                \n",
            "                                                                                                  \n",
            " expn2_concat (Concatenate)     (None, 128, 128, 25  0           ['expn3_up[0][0]',               \n",
            "                                6)                                'cont2_2[0][0]']                \n",
            "                                                                                                  \n",
            " expn2_1 (Conv2D)               (None, 128, 128, 12  295040      ['expn2_concat[0][0]']           \n",
            "                                8)                                                                \n",
            "                                                                                                  \n",
            " expn2_2 (Conv2D)               (None, 128, 128, 12  147584      ['expn2_1[0][0]']                \n",
            "                                8)                                                                \n",
            "                                                                                                  \n",
            " expn2_up (Conv2DTranspose)     (None, 256, 256, 64  32832       ['expn2_2[0][0]']                \n",
            "                                )                                                                 \n",
            "                                                                                                  \n",
            " expn1_concat (Concatenate)     (None, 256, 256, 12  0           ['expn2_up[0][0]',               \n",
            "                                8)                                'cont1_2[0][0]']                \n",
            "                                                                                                  \n",
            " expn1_1 (Conv2D)               (None, 256, 256, 64  73792       ['expn1_concat[0][0]']           \n",
            "                                )                                                                 \n",
            "                                                                                                  \n",
            " expn1_2 (Conv2D)               (None, 256, 256, 64  36928       ['expn1_1[0][0]']                \n",
            "                                )                                                                 \n",
            "                                                                                                  \n",
            " output_tensor (Conv2D)         (None, 256, 256, 3)  195         ['expn1_2[0][0]']                \n",
            "                                                                                                  \n",
            "==================================================================================================\n",
            "Total params: 7,697,475\n",
            "Trainable params: 7,697,475\n",
            "Non-trainable params: 0\n",
            "__________________________________________________________________________________________________\n"
          ]
        }
      ],
      "source": [
        "model = build_unet((256, 256, 3), 3)\n",
        "metrics = [dice_coef, iou]\n",
        "model.compile(loss=\"binary_crossentropy\", optimizer=tf.keras.optimizers.Adam(lr), metrics=metrics)\n",
        "model.summary()"
      ]
    },
    {
      "cell_type": "code",
      "execution_count": 34,
      "metadata": {
        "id": "RatPY9foLb95"
      },
      "outputs": [],
      "source": [
        "callbacks = [\n",
        "        ModelCheckpoint(\"model.h5\", verbose=1, save_best_model=True),\n",
        "        ReduceLROnPlateau(monitor=\"val_loss\", patience=3, factor=0.1, verbose=1, min_lr=1e-6),\n",
        "        EarlyStopping(monitor=\"val_loss\", patience=5, verbose=1)\n",
        "    ]"
      ]
    },
    {
      "cell_type": "markdown",
      "metadata": {
        "id": "WFLGZ-wjLb96"
      },
      "source": [
        "## Training"
      ]
    },
    {
      "cell_type": "code",
      "execution_count": 41,
      "metadata": {
        "colab": {
          "base_uri": "https://localhost:8080/"
        },
        "id": "-HF8SljALb97",
        "outputId": "9be87278-8e1c-4d9e-e87c-7798f6f88b83"
      },
      "outputs": [
        {
          "output_type": "stream",
          "name": "stdout",
          "text": [
            "Epoch 1/5\n",
            "20/20 [==============================] - ETA: 0s - loss: 1.7712e-06 - dice_coef: 1.9073e-21 - iou: 1.9073e-21\n",
            "Epoch 1: saving model to model.h5\n",
            "20/20 [==============================] - 20s 976ms/step - loss: 1.7712e-06 - dice_coef: 1.9073e-21 - iou: 1.9073e-21 - val_loss: 1.7334e-06 - val_dice_coef: 1.9073e-21 - val_iou: 1.9073e-21 - lr: 1.0000e-05\n",
            "Epoch 2/5\n",
            "20/20 [==============================] - ETA: 0s - loss: 1.6639e-06 - dice_coef: 2.0663e-21 - iou: 2.0663e-21\n",
            "Epoch 2: saving model to model.h5\n",
            "20/20 [==============================] - 19s 976ms/step - loss: 1.6639e-06 - dice_coef: 2.0663e-21 - iou: 2.0663e-21 - val_loss: 1.6407e-06 - val_dice_coef: 1.9073e-21 - val_iou: 1.9073e-21 - lr: 1.0000e-05\n",
            "Epoch 3/5\n",
            "20/20 [==============================] - ETA: 0s - loss: 1.5793e-06 - dice_coef: 2.0663e-21 - iou: 2.0663e-21\n",
            "Epoch 3: saving model to model.h5\n",
            "20/20 [==============================] - 19s 957ms/step - loss: 1.5793e-06 - dice_coef: 2.0663e-21 - iou: 2.0663e-21 - val_loss: 1.5507e-06 - val_dice_coef: 1.9073e-21 - val_iou: 1.9073e-21 - lr: 1.0000e-05\n",
            "Epoch 4/5\n",
            "20/20 [==============================] - ETA: 0s - loss: 1.4717e-06 - dice_coef: 2.0663e-21 - iou: 2.0663e-21\n",
            "Epoch 4: saving model to model.h5\n",
            "\n",
            "Epoch 4: ReduceLROnPlateau reducing learning rate to 1e-06.\n",
            "20/20 [==============================] - 19s 955ms/step - loss: 1.4717e-06 - dice_coef: 2.0663e-21 - iou: 2.0663e-21 - val_loss: 1.4786e-06 - val_dice_coef: 1.9073e-21 - val_iou: 1.9073e-21 - lr: 1.0000e-05\n",
            "Epoch 5/5\n",
            "20/20 [==============================] - ETA: 0s - loss: 1.4678e-06 - dice_coef: 2.0663e-21 - iou: 2.0663e-21\n",
            "Epoch 5: saving model to model.h5\n",
            "20/20 [==============================] - 19s 953ms/step - loss: 1.4678e-06 - dice_coef: 2.0663e-21 - iou: 2.0663e-21 - val_loss: 1.4835e-06 - val_dice_coef: 1.9073e-21 - val_iou: 1.9073e-21 - lr: 1.0000e-06\n"
          ]
        }
      ],
      "source": [
        "history = model.fit(train_dataset, steps_per_epoch=train_steps, validation_data=valid_dataset, validation_steps=valid_steps, epochs=epochs, callbacks=callbacks)"
      ]
    },
    {
      "cell_type": "code",
      "execution_count": 49,
      "metadata": {
        "colab": {
          "base_uri": "https://localhost:8080/",
          "height": 573
        },
        "id": "JU8d2boILb97",
        "outputId": "0fa70099-f1ac-4d7b-dde7-539c42ab0ba6"
      },
      "outputs": [
        {
          "output_type": "display_data",
          "data": {
            "image/png": "[encoded data removed]",
            "text/plain": [
              "<Figure size 432x288 with 1 Axes>"
            ]
          },
          "metadata": {
            "needs_background": "light"
          }
        },
        {
          "output_type": "display_data",
          "data": {
            "image/png": "[encoded data removed]",
            "text/plain": [
              "<Figure size 432x288 with 1 Axes>"
            ]
          },
          "metadata": {
            "needs_background": "light"
          }
        }
      ],
      "source": [
        "import matplotlib.pyplot as plt\n",
        "\n",
        "# 6 훈련 과정 시각화 (정확도)\n",
        "plt.plot(history.history['dice_coef'])\n",
        "plt.plot(history.history['iou'])\n",
        "plt.title('dice_coef/iou')\n",
        "plt.xlabel('Epoch')\n",
        "plt.ylabel('dice_coef/iou')\n",
        "plt.legend(['Train', 'Test'], loc='upper left')\n",
        "plt.show()\n",
        "\n",
        "# 7 훈련 과정 시각화 (손실)\n",
        "plt.plot(history.history['loss'])\n",
        "plt.plot(history.history['val_loss'])\n",
        "plt.title('Model loss')\n",
        "plt.xlabel('Epoch')\n",
        "plt.ylabel('Loss')\n",
        "plt.legend(['Train', 'Test'], loc='upper left')\n",
        "plt.show()"
      ]
    },
    {
      "cell_type": "code",
      "execution_count": null,
      "metadata": {
        "id": "hISVITDsLb97"
      },
      "outputs": [],
      "source": [
        ""
      ]
    },
    {
      "cell_type": "code",
      "execution_count": null,
      "metadata": {
        "id": "QoF6zSL1Lb97"
      },
      "outputs": [],
      "source": [
        ""
      ]
    },
    {
      "cell_type": "code",
      "execution_count": null,
      "metadata": {
        "id": "aMOrZ_QCLb98"
      },
      "outputs": [],
      "source": [
        ""
      ]
    }
  ],
  "metadata": {
    "kernelspec": {
      "display_name": "Python 3",
      "language": "python",
      "name": "python3"
    },
    "language_info": {
      "codemirror_mode": {
        "name": "ipython",
        "version": 3
      },
      "file_extension": ".py",
      "mimetype": "text/x-python",
      "name": "python",
      "nbconvert_exporter": "python",
      "pygments_lexer": "ipython3",
      "version": "3.6.12"
    },
    "colab": {
      "name": "Bonemeta Segmentation_colab.ipynb",
      "provenance": [],
      "collapsed_sections": [],
      "include_colab_link": true
    },
    "accelerator": "GPU"
  },
  "nbformat": 4,
  "nbformat_minor": 0
}